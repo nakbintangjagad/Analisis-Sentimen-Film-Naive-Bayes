{
 "cells": [
  {
   "cell_type": "markdown",
   "id": "45264c92",
   "metadata": {},
   "source": [
    "# ANALISIS SENTIMEN FILM"
   ]
  },
  {
   "cell_type": "code",
   "execution_count": 4,
   "id": "6a37474c",
   "metadata": {},
   "outputs": [],
   "source": [
    "import numpy as np # linear algebra\n",
    "import pandas as pd # data processing, CSV file I/O (e.g. pd.read_csv)\n",
    "import os\n",
    "import matplotlib.pyplot as plt\n",
    "import seaborn as sns\n",
    "\n",
    "from sklearn.model_selection import train_test_split\n",
    "from sklearn.feature_extraction.text import CountVectorizer\n",
    "from sklearn.metrics import confusion_matrix, classification_report"
   ]
  },
  {
   "cell_type": "code",
   "execution_count": 5,
   "id": "250cbcc5",
   "metadata": {},
   "outputs": [],
   "source": [
    "data_dir = 'aclImdb'\n",
    "folders = [\n",
    "    ('train', 'neg', 'negative'),\n",
    "    ('train', 'pos', 'positive'),\n",
    "    ('test', 'neg', 'negative'),\n",
    "    ('test', 'pos', 'positive')\n",
    "]"
   ]
  },
  {
   "cell_type": "code",
   "execution_count": 6,
   "id": "b100a155",
   "metadata": {},
   "outputs": [],
   "source": [
    "data = []\n",
    "for split, sentiment, label in folders:\n",
    "    folder_path = os.path.join(data_dir, split, sentiment)\n",
    "    for filename in os.listdir(folder_path):\n",
    "        with open(os.path.join(folder_path, filename), 'r', encoding='utf-8') as file:\n",
    "            text = file.read()\n",
    "            data.append({ 'split': split, 'label': label,'text': text})"
   ]
  },
  {
   "cell_type": "code",
   "execution_count": 7,
   "id": "1f194fe5",
   "metadata": {},
   "outputs": [],
   "source": [
    "# Pertama kali\n",
    "df = pd.DataFrame(data)\n",
    "df.to_csv(\"imdb_dataset.csv\", index=False)"
   ]
  },
  {
   "cell_type": "code",
   "execution_count": 8,
   "id": "23fa4aaa",
   "metadata": {},
   "outputs": [],
   "source": [
    "df = pd.read_csv(\"imdb_dataset.csv\")"
   ]
  },
  {
   "cell_type": "code",
   "execution_count": 9,
   "id": "2e0ef7cf",
   "metadata": {},
   "outputs": [
    {
     "name": "stdout",
     "output_type": "stream",
     "text": [
      "   split     label                                               text\n",
      "0  train  negative  Story of a man who has unnatural feelings for ...\n",
      "1  train  negative  Airport '77 starts as a brand new luxury 747 p...\n",
      "2  train  negative  This film lacked something I couldn't put my f...\n",
      "3  train  negative  Sorry everyone,,, I know this is supposed to b...\n",
      "4  train  negative  When I was little my parents took me along to ...\n"
     ]
    }
   ],
   "source": [
    "print(df.head())"
   ]
  },
  {
   "cell_type": "code",
   "execution_count": 10,
   "id": "afd8bb45",
   "metadata": {},
   "outputs": [
    {
     "name": "stdout",
     "output_type": "stream",
     "text": [
      "      split     label                                               text\n",
      "49995  test  positive  I was extraordinarily impressed by this film. ...\n",
      "49996  test  positive  Although I'm not a golf fan, I attended a snea...\n",
      "49997  test  positive  From the start of \"The Edge Of Love\", the view...\n",
      "49998  test  positive  This movie, with all its complexity and subtle...\n",
      "49999  test  positive  I've seen this story before but my kids haven'...\n"
     ]
    }
   ],
   "source": [
    "print(df.tail())"
   ]
  },
  {
   "cell_type": "code",
   "execution_count": 11,
   "id": "0740eb25",
   "metadata": {},
   "outputs": [
    {
     "name": "stdout",
     "output_type": "stream",
     "text": [
      "<class 'pandas.core.frame.DataFrame'>\n",
      "RangeIndex: 50000 entries, 0 to 49999\n",
      "Data columns (total 3 columns):\n",
      " #   Column  Non-Null Count  Dtype \n",
      "---  ------  --------------  ----- \n",
      " 0   split   50000 non-null  object\n",
      " 1   label   50000 non-null  object\n",
      " 2   text    50000 non-null  object\n",
      "dtypes: object(3)\n",
      "memory usage: 1.1+ MB\n"
     ]
    }
   ],
   "source": [
    "df.info()"
   ]
  },
  {
   "cell_type": "code",
   "execution_count": 13,
   "id": "f6e7fcf3",
   "metadata": {},
   "outputs": [
    {
     "name": "stdout",
     "output_type": "stream",
     "text": [
      "   split     label                                               text\n",
      "0  train  negative  Story of a man who has unnatural feelings for ...\n",
      "1  train  negative  Airport '77 starts as a brand new luxury 747 p...\n",
      "2  train  negative  This film lacked something I couldn't put my f...\n",
      "3  train  negative  Sorry everyone,,, I know this is supposed to b...\n",
      "4  train  negative  When I was little my parents took me along to ...\n",
      "Jumlah test data positif: 50000\n"
     ]
    }
   ],
   "source": [
    "print(df.head()[['split','label', 'text']])\n",
    "print(f\"Jumlah test data positif: {len(df)}\")"
   ]
  },
  {
   "cell_type": "code",
   "execution_count": 14,
   "id": "3bac0d19",
   "metadata": {},
   "outputs": [
    {
     "name": "stdout",
     "output_type": "stream",
     "text": [
      "Contoh test data negatif:\n",
      "   split     label                                               text\n",
      "0  train  negative  Story of a man who has unnatural feelings for ...\n",
      "1  train  negative  Airport '77 starts as a brand new luxury 747 p...\n",
      "2  train  negative  This film lacked something I couldn't put my f...\n",
      "3  train  negative  Sorry everyone,,, I know this is supposed to b...\n",
      "4  train  negative  When I was little my parents took me along to ...\n",
      "Jumlah test data negatif: 50000\n"
     ]
    }
   ],
   "source": [
    "print(\"Contoh test data negatif:\")\n",
    "print(df.head()[['split','label', 'text']])\n",
    "print(f\"Jumlah test data negatif: {len(df)}\")"
   ]
  },
  {
   "cell_type": "code",
   "execution_count": 15,
   "id": "8fc97ea0",
   "metadata": {},
   "outputs": [
    {
     "data": {
      "image/png": "[encoded data removed]",
      "text/plain": [
       "<Figure size 600x400 with 1 Axes>"
      ]
     },
     "metadata": {},
     "output_type": "display_data"
    }
   ],
   "source": [
    "# === Visualisasi: Distribusi Label ===\n",
    "plt.figure(figsize=(6, 4))\n",
    "sns.countplot(data=df, x='label', hue='label', palette='Set2', legend=False)\n",
    "plt.title(\"Distribusi Sentimen\")\n",
    "plt.xlabel(\"Label\")\n",
    "plt.ylabel(\"Jumlah\")\n",
    "plt.show()"
   ]
  },
  {
   "cell_type": "code",
   "execution_count": 16,
   "id": "244bf6a1",
   "metadata": {},
   "outputs": [],
   "source": [
    "# === Split Data ===\n",
    "X = df['text']\n",
    "y = df['label']\n",
    "X_train, X_test, y_train, y_test = train_test_split(X, y, test_size=0.2, random_state=1)"
   ]
  },
  {
   "cell_type": "code",
   "execution_count": 17,
   "id": "e88377e4",
   "metadata": {},
   "outputs": [],
   "source": [
    "# === Vectorization ===\n",
    "vectorizer = CountVectorizer()\n",
    "X_train_counts = vectorizer.fit_transform(X_train)\n",
    "X_test_counts = vectorizer.transform(X_test)"
   ]
  },
  {
   "cell_type": "code",
   "execution_count": 18,
   "id": "9b52a757",
   "metadata": {},
   "outputs": [],
   "source": [
    "# === Naive Bayes Multinomial Training ===\n",
    "def train_multinomial_nb(X_train, y_train):\n",
    "    y_train = np.array(y_train)\n",
    "    classes = np.unique(y_train)\n",
    "    priors = {c: np.sum(y_train == c) / len(y_train) for c in classes}\n",
    "    likelihoods = {}\n",
    "    for c in classes:\n",
    "        class_docs = X_train[y_train == c]\n",
    "        word_counts = class_docs.sum(axis=0)\n",
    "        total_words = word_counts.sum()\n",
    "        likelihoods[c] = (word_counts + 1) / (total_words + X_train.shape[1])\n",
    "    return priors, likelihoods"
   ]
  },
  {
   "cell_type": "code",
   "execution_count": 19,
   "id": "ad92a7c9",
   "metadata": {},
   "outputs": [],
   "source": [
    "# === Prediction Function ===\n",
    "def predict_sentiment(review, vectorizer, priors, likelihoods):\n",
    "    X_new = vectorizer.transform([review])\n",
    "    probs = {c: np.log(priors[c]) for c in priors}\n",
    "    for i, count in zip(X_new.indices, X_new.data):\n",
    "        for c in priors:\n",
    "            probs[c] += np.log(likelihoods[c][0, i]) * count\n",
    "    return max(probs, key=probs.get)"
   ]
  },
  {
   "cell_type": "code",
   "execution_count": 20,
   "id": "97c48467",
   "metadata": {},
   "outputs": [],
   "source": [
    "# === Evaluation Function ===\n",
    "def evaluate_multinomial_nb(X_test, y_test, priors, likelihoods):\n",
    "    y_pred = []\n",
    "    y_test = np.array(y_test)\n",
    "    for doc in X_test:\n",
    "        probs = {c: np.log(priors[c]) for c in priors}\n",
    "        for i, count in zip(doc.indices, doc.data):\n",
    "            for c in priors:\n",
    "                probs[c] += np.log(likelihoods[c][0, i]) * count\n",
    "        y_pred.append(max(probs, key=probs.get))\n",
    "    accuracy = np.sum(np.array(y_pred) == y_test) / len(y_test)\n",
    "    return accuracy, y_pred"
   ]
  },
  {
   "cell_type": "code",
   "execution_count": 21,
   "id": "1a3e06c1",
   "metadata": {},
   "outputs": [
    {
     "name": "stdout",
     "output_type": "stream",
     "text": [
      "Accuracy on test set: 0.85\n"
     ]
    }
   ],
   "source": [
    "# === Train and Evaluate ===\n",
    "priors, likelihoods = train_multinomial_nb(X_train_counts, y_train)\n",
    "accuracy, y_pred = evaluate_multinomial_nb(X_test_counts, y_test, priors, likelihoods)\n",
    "print(f\"Accuracy on test set: {accuracy:.2f}\")"
   ]
  },
  {
   "cell_type": "code",
   "execution_count": 22,
   "id": "58ac666c",
   "metadata": {},
   "outputs": [
    {
     "data": {
      "image/png": "[encoded data removed]",
      "text/plain": [
       "<Figure size 500x400 with 2 Axes>"
      ]
     },
     "metadata": {},
     "output_type": "display_data"
    }
   ],
   "source": [
    "# === Confusion Matrix & Classification Report ===\n",
    "cm = confusion_matrix(y_test, y_pred, labels=[\"positive\", \"negative\"])\n",
    "plt.figure(figsize=(5, 4))\n",
    "sns.heatmap(cm, annot=True, fmt='d', xticklabels=[\"positive\", \"negative\"], yticklabels=[\"positive\", \"negative\"], cmap=\"Blues\")\n",
    "plt.title(\"Confusion Matrix\")\n",
    "plt.xlabel(\"Predicted\")\n",
    "plt.ylabel(\"Actual\")\n",
    "plt.show()"
   ]
  },
  {
   "cell_type": "code",
   "execution_count": 23,
   "id": "1bbf416b",
   "metadata": {},
   "outputs": [
    {
     "name": "stdout",
     "output_type": "stream",
     "text": [
      "📊 Classification Report:\n",
      "              precision    recall  f1-score   support\n",
      "\n",
      "    positive       0.83      0.88      0.85      5061\n",
      "    negative       0.87      0.81      0.84      4939\n",
      "\n",
      "    accuracy                           0.85     10000\n",
      "   macro avg       0.85      0.85      0.85     10000\n",
      "weighted avg       0.85      0.85      0.85     10000\n",
      "\n"
     ]
    }
   ],
   "source": [
    "print(\"📊 Classification Report:\")\n",
    "print(classification_report(y_test, y_pred, target_names=[\"positive\", \"negative\"]))"
   ]
  },
  {
   "cell_type": "code",
   "execution_count": 24,
   "id": "650225bf",
   "metadata": {},
   "outputs": [
    {
     "name": "stdout",
     "output_type": "stream",
     "text": [
      "Review: 'The movie was fantastic and engaging' \n",
      "=> Sentiment: positive\n"
     ]
    }
   ],
   "source": [
    "# === Contoh Prediksi ===\n",
    "sample_review = \"The movie was fantastic and engaging\"\n",
    "prediction = predict_sentiment(sample_review, vectorizer, priors, likelihoods)\n",
    "print(f\"Review: '{sample_review}' \\n=> Sentiment: {prediction}\")"
   ]
  }
 ],
 "metadata": {
  "kernelspec": {
   "display_name": "Python 3",
   "language": "python",
   "name": "python3"
  },
  "language_info": {
   "codemirror_mode": {
    "name": "ipython",
    "version": 3
   },
   "file_extension": ".py",
   "mimetype": "text/x-python",
   "name": "python",
   "nbconvert_exporter": "python",
   "pygments_lexer": "ipython3",
   "version": "3.13.2"
  }
 },
 "nbformat": 4,
 "nbformat_minor": 5
}
